{
  "cells": [
    {
      "cell_type": "markdown",
      "metadata": {
        "id": "XiuHMJJGrPBI"
      },
      "source": [
        "# 📊 Pipeline de Processamento de Logs do Databricks\n",
        "\n",
        "Este notebook realiza o processamento dos logs extraídos da API do Databricks, transformando os dados brutos em uma estrutura organizada para análise futura."
      ],
      "id": "XiuHMJJGrPBI"
    },
    {
      "cell_type": "code",
      "execution_count": 1,
      "metadata": {
        "colab": {
          "base_uri": "https://localhost:8080/"
        },
        "id": "MVv9ISMErPBL",
        "outputId": "b22a0feb-e565-49e2-db44-8dcf277d90df"
      },
      "outputs": [
        {
          "output_type": "stream",
          "name": "stdout",
          "text": [
            "Requirement already satisfied: pandas in /usr/local/lib/python3.11/dist-packages (2.2.2)\n",
            "Requirement already satisfied: pyarrow in /usr/local/lib/python3.11/dist-packages (18.1.0)\n",
            "Requirement already satisfied: numpy>=1.23.2 in /usr/local/lib/python3.11/dist-packages (from pandas) (2.0.2)\n",
            "Requirement already satisfied: python-dateutil>=2.8.2 in /usr/local/lib/python3.11/dist-packages (from pandas) (2.8.2)\n",
            "Requirement already satisfied: pytz>=2020.1 in /usr/local/lib/python3.11/dist-packages (from pandas) (2025.2)\n",
            "Requirement already satisfied: tzdata>=2022.7 in /usr/local/lib/python3.11/dist-packages (from pandas) (2025.2)\n",
            "Requirement already satisfied: six>=1.5 in /usr/local/lib/python3.11/dist-packages (from python-dateutil>=2.8.2->pandas) (1.17.0)\n"
          ]
        }
      ],
      "source": [
        "# 🚀 1. Instalar dependências\n",
        "!pip install pandas pyarrow"
      ],
      "id": "MVv9ISMErPBL"
    },
    {
      "cell_type": "code",
      "execution_count": 5,
      "metadata": {
        "colab": {
          "base_uri": "https://localhost:8080/",
          "height": 73
        },
        "id": "y1IKKIzxrPBM",
        "outputId": "3a53f569-05f0-4969-a889-0234128b8878"
      },
      "outputs": [
        {
          "output_type": "display_data",
          "data": {
            "text/plain": [
              "<IPython.core.display.HTML object>"
            ],
            "text/html": [
              "\n",
              "     <input type=\"file\" id=\"files-5bdc202f-ae82-4270-bea4-e8ba93645150\" name=\"files[]\" multiple disabled\n",
              "        style=\"border:none\" />\n",
              "     <output id=\"result-5bdc202f-ae82-4270-bea4-e8ba93645150\">\n",
              "      Upload widget is only available when the cell has been executed in the\n",
              "      current browser session. Please rerun this cell to enable.\n",
              "      </output>\n",
              "      <script>// Copyright 2017 Google LLC\n",
              "//\n",
              "// Licensed under the Apache License, Version 2.0 (the \"License\");\n",
              "// you may not use this file except in compliance with the License.\n",
              "// You may obtain a copy of the License at\n",
              "//\n",
              "//      http://www.apache.org/licenses/LICENSE-2.0\n",
              "//\n",
              "// Unless required by applicable law or agreed to in writing, software\n",
              "// distributed under the License is distributed on an \"AS IS\" BASIS,\n",
              "// WITHOUT WARRANTIES OR CONDITIONS OF ANY KIND, either express or implied.\n",
              "// See the License for the specific language governing permissions and\n",
              "// limitations under the License.\n",
              "\n",
              "/**\n",
              " * @fileoverview Helpers for google.colab Python module.\n",
              " */\n",
              "(function(scope) {\n",
              "function span(text, styleAttributes = {}) {\n",
              "  const element = document.createElement('span');\n",
              "  element.textContent = text;\n",
              "  for (const key of Object.keys(styleAttributes)) {\n",
              "    element.style[key] = styleAttributes[key];\n",
              "  }\n",
              "  return element;\n",
              "}\n",
              "\n",
              "// Max number of bytes which will be uploaded at a time.\n",
              "const MAX_PAYLOAD_SIZE = 100 * 1024;\n",
              "\n",
              "function _uploadFiles(inputId, outputId) {\n",
              "  const steps = uploadFilesStep(inputId, outputId);\n",
              "  const outputElement = document.getElementById(outputId);\n",
              "  // Cache steps on the outputElement to make it available for the next call\n",
              "  // to uploadFilesContinue from Python.\n",
              "  outputElement.steps = steps;\n",
              "\n",
              "  return _uploadFilesContinue(outputId);\n",
              "}\n",
              "\n",
              "// This is roughly an async generator (not supported in the browser yet),\n",
              "// where there are multiple asynchronous steps and the Python side is going\n",
              "// to poll for completion of each step.\n",
              "// This uses a Promise to block the python side on completion of each step,\n",
              "// then passes the result of the previous step as the input to the next step.\n",
              "function _uploadFilesContinue(outputId) {\n",
              "  const outputElement = document.getElementById(outputId);\n",
              "  const steps = outputElement.steps;\n",
              "\n",
              "  const next = steps.next(outputElement.lastPromiseValue);\n",
              "  return Promise.resolve(next.value.promise).then((value) => {\n",
              "    // Cache the last promise value to make it available to the next\n",
              "    // step of the generator.\n",
              "    outputElement.lastPromiseValue = value;\n",
              "    return next.value.response;\n",
              "  });\n",
              "}\n",
              "\n",
              "/**\n",
              " * Generator function which is called between each async step of the upload\n",
              " * process.\n",
              " * @param {string} inputId Element ID of the input file picker element.\n",
              " * @param {string} outputId Element ID of the output display.\n",
              " * @return {!Iterable<!Object>} Iterable of next steps.\n",
              " */\n",
              "function* uploadFilesStep(inputId, outputId) {\n",
              "  const inputElement = document.getElementById(inputId);\n",
              "  inputElement.disabled = false;\n",
              "\n",
              "  const outputElement = document.getElementById(outputId);\n",
              "  outputElement.innerHTML = '';\n",
              "\n",
              "  const pickedPromise = new Promise((resolve) => {\n",
              "    inputElement.addEventListener('change', (e) => {\n",
              "      resolve(e.target.files);\n",
              "    });\n",
              "  });\n",
              "\n",
              "  const cancel = document.createElement('button');\n",
              "  inputElement.parentElement.appendChild(cancel);\n",
              "  cancel.textContent = 'Cancel upload';\n",
              "  const cancelPromise = new Promise((resolve) => {\n",
              "    cancel.onclick = () => {\n",
              "      resolve(null);\n",
              "    };\n",
              "  });\n",
              "\n",
              "  // Wait for the user to pick the files.\n",
              "  const files = yield {\n",
              "    promise: Promise.race([pickedPromise, cancelPromise]),\n",
              "    response: {\n",
              "      action: 'starting',\n",
              "    }\n",
              "  };\n",
              "\n",
              "  cancel.remove();\n",
              "\n",
              "  // Disable the input element since further picks are not allowed.\n",
              "  inputElement.disabled = true;\n",
              "\n",
              "  if (!files) {\n",
              "    return {\n",
              "      response: {\n",
              "        action: 'complete',\n",
              "      }\n",
              "    };\n",
              "  }\n",
              "\n",
              "  for (const file of files) {\n",
              "    const li = document.createElement('li');\n",
              "    li.append(span(file.name, {fontWeight: 'bold'}));\n",
              "    li.append(span(\n",
              "        `(${file.type || 'n/a'}) - ${file.size} bytes, ` +\n",
              "        `last modified: ${\n",
              "            file.lastModifiedDate ? file.lastModifiedDate.toLocaleDateString() :\n",
              "                                    'n/a'} - `));\n",
              "    const percent = span('0% done');\n",
              "    li.appendChild(percent);\n",
              "\n",
              "    outputElement.appendChild(li);\n",
              "\n",
              "    const fileDataPromise = new Promise((resolve) => {\n",
              "      const reader = new FileReader();\n",
              "      reader.onload = (e) => {\n",
              "        resolve(e.target.result);\n",
              "      };\n",
              "      reader.readAsArrayBuffer(file);\n",
              "    });\n",
              "    // Wait for the data to be ready.\n",
              "    let fileData = yield {\n",
              "      promise: fileDataPromise,\n",
              "      response: {\n",
              "        action: 'continue',\n",
              "      }\n",
              "    };\n",
              "\n",
              "    // Use a chunked sending to avoid message size limits. See b/62115660.\n",
              "    let position = 0;\n",
              "    do {\n",
              "      const length = Math.min(fileData.byteLength - position, MAX_PAYLOAD_SIZE);\n",
              "      const chunk = new Uint8Array(fileData, position, length);\n",
              "      position += length;\n",
              "\n",
              "      const base64 = btoa(String.fromCharCode.apply(null, chunk));\n",
              "      yield {\n",
              "        response: {\n",
              "          action: 'append',\n",
              "          file: file.name,\n",
              "          data: base64,\n",
              "        },\n",
              "      };\n",
              "\n",
              "      let percentDone = fileData.byteLength === 0 ?\n",
              "          100 :\n",
              "          Math.round((position / fileData.byteLength) * 100);\n",
              "      percent.textContent = `${percentDone}% done`;\n",
              "\n",
              "    } while (position < fileData.byteLength);\n",
              "  }\n",
              "\n",
              "  // All done.\n",
              "  yield {\n",
              "    response: {\n",
              "      action: 'complete',\n",
              "    }\n",
              "  };\n",
              "}\n",
              "\n",
              "scope.google = scope.google || {};\n",
              "scope.google.colab = scope.google.colab || {};\n",
              "scope.google.colab._files = {\n",
              "  _uploadFiles,\n",
              "  _uploadFilesContinue,\n",
              "};\n",
              "})(self);\n",
              "</script> "
            ]
          },
          "metadata": {}
        },
        {
          "output_type": "stream",
          "name": "stdout",
          "text": [
            "Saving databricks_logs.parquet to databricks_logs (1).parquet\n"
          ]
        }
      ],
      "source": [
        "# 📁 2. Fazer upload do arquivo parquet\n",
        "from google.colab import files\n",
        "\n",
        "uploaded = files.upload()  # Escolha o arquivo databricks_logs.parquet"
      ],
      "id": "y1IKKIzxrPBM"
    },
    {
      "cell_type": "code",
      "execution_count": 7,
      "metadata": {
        "colab": {
          "base_uri": "https://localhost:8080/"
        },
        "id": "sL6DroaxrPBN",
        "outputId": "d04733a2-9241-4dc5-f3fd-b0f00f88d174"
      },
      "outputs": [
        {
          "output_type": "stream",
          "name": "stdout",
          "text": [
            "Visualização inicial dos dados:\n",
            "   job_id  run_id           state result_state     start_time       end_time  \\\n",
            "0    1001     201      TERMINATED      SUCCESS  1743501600000  1743503400000   \n",
            "1    1002     202      TERMINATED       FAILED  1743597000000  1743598200000   \n",
            "2    1003     203      TERMINATED      SUCCESS  1743691500000  1743693000000   \n",
            "3    1004     204  INTERNAL_ERROR       FAILED  1743782400000  1743783600000   \n",
            "\n",
            "  cluster_id  creator_user_name  \n",
            "0  cluster01  hiago@example.com  \n",
            "1  cluster02    ana@example.com  \n",
            "2  cluster03   joao@example.com  \n",
            "3  cluster04    bia@example.com  \n"
          ]
        }
      ],
      "source": [
        "# 📖 3. Ler os dados\n",
        "import pandas as pd\n",
        "\n",
        "df = pd.read_parquet('databricks_logs.parquet')\n",
        "print(\"Visualização inicial dos dados:\")\n",
        "print(df.head())"
      ],
      "id": "sL6DroaxrPBN"
    },
    {
      "cell_type": "code",
      "execution_count": 10,
      "metadata": {
        "colab": {
          "base_uri": "https://localhost:8080/"
        },
        "id": "MPx5-vOKrPBN",
        "outputId": "487dc2e3-562c-43e5-a44b-6d79670b1bd4"
      },
      "outputs": [
        {
          "output_type": "stream",
          "name": "stdout",
          "text": [
            "\n",
            "Dados processados:\n",
            "   job_id  run_id          start_time            end_time           state  \\\n",
            "0    1001     201 2025-04-01 10:00:00 2025-04-01 10:30:00      TERMINATED   \n",
            "1    1002     202 2025-04-02 12:30:00 2025-04-02 12:50:00      TERMINATED   \n",
            "2    1003     203 2025-04-03 14:45:00 2025-04-03 15:10:00      TERMINATED   \n",
            "3    1004     204 2025-04-04 16:00:00 2025-04-04 16:20:00  INTERNAL_ERROR   \n",
            "\n",
            "  result_state  duration_minutes data_execucao  \n",
            "0      SUCCESS              30.0    2025-04-01  \n",
            "1       FAILED              20.0    2025-04-02  \n",
            "2      SUCCESS              25.0    2025-04-03  \n",
            "3       FAILED              20.0    2025-04-04  \n"
          ]
        }
      ],
      "source": [
        "# 🧹 4. Processar os dados\n",
        "\n",
        "# Converte timestamp\n",
        "df['start_time'] = pd.to_datetime(df['start_time'], unit='ms')\n",
        "df['end_time'] = pd.to_datetime(df['end_time'], unit='ms')\n",
        "\n",
        "# Cria coluna de duração em minutos\n",
        "df['duration_minutes'] = (df['end_time'] - df['start_time']).dt.total_seconds() / 60\n",
        "\n",
        "# Cria data da execução\n",
        "df['data_execucao'] = df['start_time'].dt.date\n",
        "\n",
        "# Seleciona colunas relevantes (ajuste os nomes conforme seu dataset)\n",
        "colunas = ['job_id', 'run_id', 'start_time', 'end_time', 'state', 'result_state', 'duration_minutes', 'data_execucao']\n",
        "df_tratado = df[colunas]\n",
        "\n",
        "print(\"\\nDados processados:\")\n",
        "print(df_tratado.head())"
      ],
      "id": "MPx5-vOKrPBN"
    },
    {
      "cell_type": "code",
      "execution_count": 11,
      "metadata": {
        "colab": {
          "base_uri": "https://localhost:8080/"
        },
        "id": "KsxQu6vbrPBO",
        "outputId": "7406a48c-8d34-4cca-e303-94fb432d0918"
      },
      "outputs": [
        {
          "output_type": "stream",
          "name": "stdout",
          "text": [
            "\n",
            "Arquivo 'logs_processados.parquet' salvo com sucesso!\n"
          ]
        }
      ],
      "source": [
        "# 💾 5. Salvar como novo parquet\n",
        "df_tratado.to_parquet('logs_processados.parquet', index=False)\n",
        "print(\"\\nArquivo 'logs_processados.parquet' salvo com sucesso!\")"
      ],
      "id": "KsxQu6vbrPBO"
    },
    {
      "cell_type": "code",
      "execution_count": 12,
      "metadata": {
        "colab": {
          "base_uri": "https://localhost:8080/",
          "height": 17
        },
        "id": "zFcbrgpyrPBO",
        "outputId": "d36d3c66-00bf-45af-ddd6-6664f98c6a6c"
      },
      "outputs": [
        {
          "output_type": "display_data",
          "data": {
            "text/plain": [
              "<IPython.core.display.Javascript object>"
            ],
            "application/javascript": [
              "\n",
              "    async function download(id, filename, size) {\n",
              "      if (!google.colab.kernel.accessAllowed) {\n",
              "        return;\n",
              "      }\n",
              "      const div = document.createElement('div');\n",
              "      const label = document.createElement('label');\n",
              "      label.textContent = `Downloading \"${filename}\": `;\n",
              "      div.appendChild(label);\n",
              "      const progress = document.createElement('progress');\n",
              "      progress.max = size;\n",
              "      div.appendChild(progress);\n",
              "      document.body.appendChild(div);\n",
              "\n",
              "      const buffers = [];\n",
              "      let downloaded = 0;\n",
              "\n",
              "      const channel = await google.colab.kernel.comms.open(id);\n",
              "      // Send a message to notify the kernel that we're ready.\n",
              "      channel.send({})\n",
              "\n",
              "      for await (const message of channel.messages) {\n",
              "        // Send a message to notify the kernel that we're ready.\n",
              "        channel.send({})\n",
              "        if (message.buffers) {\n",
              "          for (const buffer of message.buffers) {\n",
              "            buffers.push(buffer);\n",
              "            downloaded += buffer.byteLength;\n",
              "            progress.value = downloaded;\n",
              "          }\n",
              "        }\n",
              "      }\n",
              "      const blob = new Blob(buffers, {type: 'application/binary'});\n",
              "      const a = document.createElement('a');\n",
              "      a.href = window.URL.createObjectURL(blob);\n",
              "      a.download = filename;\n",
              "      div.appendChild(a);\n",
              "      a.click();\n",
              "      div.remove();\n",
              "    }\n",
              "  "
            ]
          },
          "metadata": {}
        },
        {
          "output_type": "display_data",
          "data": {
            "text/plain": [
              "<IPython.core.display.Javascript object>"
            ],
            "application/javascript": [
              "download(\"download_b247a31b-a69d-4d54-abe4-2a9e3b26cdcb\", \"logs_processados.parquet\", 5257)"
            ]
          },
          "metadata": {}
        }
      ],
      "source": [
        "# 📥 6. Baixar o novo arquivo\n",
        "files.download('logs_processados.parquet')"
      ],
      "id": "zFcbrgpyrPBO"
    },
    {
      "cell_type": "code",
      "execution_count": 14,
      "metadata": {
        "colab": {
          "base_uri": "https://localhost:8080/"
        },
        "id": "WFZKHBa9rPBO",
        "outputId": "74b2c12f-44a8-4ece-f5e2-b2a2358110b5"
      },
      "outputs": [
        {
          "output_type": "stream",
          "name": "stdout",
          "text": [
            "\n",
            "📈 Média de duração por *result_state*:\n",
            "result_state\n",
            "FAILED     20.0\n",
            "SUCCESS    27.5\n",
            "Name: duration_minutes, dtype: float64\n",
            "\n",
            "📅 Quantidade de jobs por dia:\n",
            "data_execucao\n",
            "2025-04-01    1\n",
            "2025-04-02    1\n",
            "2025-04-03    1\n",
            "2025-04-04    1\n",
            "Name: job_id, dtype: int64\n"
          ]
        }
      ],
      "source": [
        "# 📊 7. Análise básica (corrigida)\n",
        "\n",
        "print(\"\\n📈 Média de duração por *result_state*:\")\n",
        "print(df_tratado.groupby('result_state')['duration_minutes'].mean())\n",
        "\n",
        "print(\"\\n📅 Quantidade de jobs por dia:\")\n",
        "print(df_tratado.groupby('data_execucao')['job_id'].count())"
      ],
      "id": "WFZKHBa9rPBO"
    }
  ],
  "metadata": {
    "kernelspec": {
      "display_name": "Python 3",
      "language": "python",
      "name": "python3"
    },
    "language_info": {
      "name": "python",
      "version": "3.x"
    },
    "colab": {
      "provenance": []
    }
  },
  "nbformat": 4,
  "nbformat_minor": 5
}